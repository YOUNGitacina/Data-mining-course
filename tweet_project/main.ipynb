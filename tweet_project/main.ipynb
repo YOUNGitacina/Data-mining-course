{
  "cells": [
    {
      "cell_type": "markdown",
      "metadata": {
        "id": "view-in-github",
        "colab_type": "text"
      },
      "source": [
        "<a href=\"https://colab.research.google.com/github/YOUNGitacina/Data-mining-course/blob/main/tweet_project/main.ipynb\" target=\"_parent\"><img src=\"https://colab.research.google.com/assets/colab-badge.svg\" alt=\"Open In Colab\"/></a>"
      ]
    },
    {
      "cell_type": "markdown",
      "metadata": {
        "id": "3DQyJelx7FzN"
      },
      "source": [
        "# Bots in Twitter"
      ]
    },
    {
      "cell_type": "markdown",
      "source": [
        "## Set the environment"
      ],
      "metadata": {
        "id": "p_Qqfq6t77WJ"
      }
    },
    {
      "cell_type": "code",
      "source": [
        "from google.colab import drive\n",
        "drive.mount('/content/drive')"
      ],
      "metadata": {
        "colab": {
          "base_uri": "https://localhost:8080/"
        },
        "id": "f4BkKwBO7IG-",
        "outputId": "48590a35-7feb-4fd3-de75-9212dea1cd64"
      },
      "execution_count": 1,
      "outputs": [
        {
          "output_type": "stream",
          "name": "stdout",
          "text": [
            "Mounted at /content/drive\n"
          ]
        }
      ]
    },
    {
      "cell_type": "code",
      "execution_count": 5,
      "metadata": {
        "id": "cr8GTWv87FzO"
      },
      "outputs": [],
      "source": [
        "%matplotlib inline\n",
        "import math\n",
        "import numpy as np\n",
        "import pandas as pd\n",
        "import scipy.stats as stats\n",
        "import matplotlib.pyplot as plt\n",
        "import dask.dataframe as dd\n",
        "\n",
        "from collections import defaultdict\n",
        "from scipy.stats.stats import pearsonr\n",
        "\n"
      ]
    },
    {
      "cell_type": "markdown",
      "source": [
        "## Loading the dataset"
      ],
      "metadata": {
        "id": "ju5KfM868UIL"
      }
    },
    {
      "cell_type": "code",
      "source": [
        "df = dd.read_csv('/content/drive/MyDrive/dataset/tweets.csv') #using dask"
      ],
      "metadata": {
        "id": "Ng4tZuUP8Zvd"
      },
      "execution_count": 7,
      "outputs": []
    }
  ],
  "metadata": {
    "kernelspec": {
      "display_name": "Python 3.9.12 ('base')",
      "language": "python",
      "name": "python3"
    },
    "language_info": {
      "codemirror_mode": {
        "name": "ipython",
        "version": 3
      },
      "file_extension": ".py",
      "mimetype": "text/x-python",
      "name": "python",
      "nbconvert_exporter": "python",
      "pygments_lexer": "ipython3",
      "version": "3.9.12"
    },
    "orig_nbformat": 4,
    "vscode": {
      "interpreter": {
        "hash": "56655f70ed23692c94eb55f802592407263d2cc2949551ec43caf2870996997e"
      }
    },
    "colab": {
      "provenance": [],
      "include_colab_link": true
    }
  },
  "nbformat": 4,
  "nbformat_minor": 0
}