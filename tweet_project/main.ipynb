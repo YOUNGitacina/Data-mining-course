{
  "cells": [
    {
      "cell_type": "markdown",
      "metadata": {
        "id": "view-in-github",
        "colab_type": "text"
      },
      "source": [
        "<a href=\"https://colab.research.google.com/github/YOUNGitacina/Data-mining-course/blob/main/tweet_project/main.ipynb\" target=\"_parent\"><img src=\"https://colab.research.google.com/assets/colab-badge.svg\" alt=\"Open In Colab\"/></a>"
      ]
    },
    {
      "cell_type": "markdown",
      "metadata": {
        "id": "3DQyJelx7FzN"
      },
      "source": [
        "# Bots in Twitter"
      ]
    },
    {
      "cell_type": "markdown",
      "source": [
        "## Set the environment"
      ],
      "metadata": {
        "id": "p_Qqfq6t77WJ"
      }
    },
    {
      "cell_type": "code",
      "source": [
        "from google.colab import drive\n",
        "drive.mount('/content/drive')"
      ],
      "metadata": {
        "colab": {
          "base_uri": "https://localhost:8080/"
        },
        "id": "f4BkKwBO7IG-",
        "outputId": "60f260cb-9c9f-4539-c965-834762aad330"
      },
      "execution_count": 1,
      "outputs": [
        {
          "output_type": "stream",
          "name": "stdout",
          "text": [
            "Mounted at /content/drive\n"
          ]
        }
      ]
    },
    {
      "cell_type": "code",
      "execution_count": 2,
      "metadata": {
        "id": "cr8GTWv87FzO"
      },
      "outputs": [],
      "source": [
        "%matplotlib inline\n",
        "import math\n",
        "import numpy as np\n",
        "import pandas as pd\n",
        "import scipy.stats as stats\n",
        "import matplotlib.pyplot as plt\n",
        "import dask.dataframe as dd\n",
        "\n",
        "from collections import defaultdict\n",
        "from scipy.stats.stats import pearsonr\n",
        "\n"
      ]
    },
    {
      "cell_type": "markdown",
      "source": [
        "## Loading the dataset"
      ],
      "metadata": {
        "id": "ju5KfM868UIL"
      }
    },
    {
      "cell_type": "code",
      "source": [
        "df = pd.read_csv('/content/drive/MyDrive/dataset/tweets.csv') "
      ],
      "metadata": {
        "id": "Ng4tZuUP8Zvd"
      },
      "execution_count": 6,
      "outputs": []
    },
    {
      "cell_type": "code",
      "source": [
        "print(df.head()) #print the first records of a df, \n",
        "print()\n",
        "print(df.tail()) #print the last records of a df."
      ],
      "metadata": {
        "id": "CzrtKS4gV7Gq",
        "outputId": "f12154ae-d9ab-46b1-8602-2dca7a3a9824",
        "colab": {
          "base_uri": "https://localhost:8080/"
        }
      },
      "execution_count": 7,
      "outputs": [
        {
          "output_type": "stream",
          "name": "stdout",
          "text": [
            "                   id     user_id retweet_count reply_count favorite_count  \\\n",
            "0  509354017856950272   327746321             0           0              0   \n",
            "1  583002592529121280   333722906             1           0              0   \n",
            "2  461498835362013185  2379755827             0           0              0   \n",
            "3  528808127366692864   466226882             0           0              0   \n",
            "4  575336690904006656  1355537995           114           0              0   \n",
            "\n",
            "  num_hashtags num_urls num_mentions           created_at  \\\n",
            "0            0        0            0  2019-09-11 14:53:55   \n",
            "1            0        0            1  2020-04-01 20:27:04   \n",
            "2            0        0            1  2019-05-02 13:34:31   \n",
            "3            0        0            0  2019-11-04 07:17:37   \n",
            "4            1        0            1  2020-03-11 16:45:31   \n",
            "\n",
            "                                                text  \n",
            "0  If man is a little lower than angels, then ang...  \n",
            "1  \"@BestWSHHVids: how do you say these words wit...  \n",
            "2                                @LOLatComedy awsome  \n",
            "3  Stephen Hawkins: i buchi neri non esistono se ...  \n",
            "4        RT @tibbs_montris: So ready for Wednesday!   \n",
            "\n",
            "                          id     user_id retweet_count reply_count  \\\n",
            "13664691  588535254207467520   587491046             0           0   \n",
            "13664692  580420653666402304  1414080518             0           0   \n",
            "13664693     718157017970961    91781300             0         NaN   \n",
            "13664694  441301348676415488   127895572             0           0   \n",
            "13664695  486479812614451200   465421036             3           0   \n",
            "\n",
            "         favorite_count num_hashtags num_urls num_mentions  \\\n",
            "13664691              0            0        0            1   \n",
            "13664692              1            0        0            1   \n",
            "13664693        l25suv5          NaN      0.0          NaN   \n",
            "13664694              1            1        0            0   \n",
            "13664695              4            0        0            0   \n",
            "\n",
            "                   created_at  \\\n",
            "13664691  2020-04-17 02:51:53   \n",
            "13664692  2020-03-25 17:27:22   \n",
            "13664693  2016-07-10 22:43:09   \n",
            "13664694  2019-03-07 19:56:55   \n",
            "13664695  2019-07-10 12:00:00   \n",
            "\n",
            "                                                       text  \n",
            "13664691  @warriors Congrats, maybe I'll be able to get ...  \n",
            "13664692                                   @DaddieEzme fr??  \n",
            "13664693                                                NaN  \n",
            "13664694   Shooting crew of porn movies. #TheWorstJobToHave  \n",
            "13664695  Qualcuno dovrÃ  pur dire a quelli che \"Twitter...  \n"
          ]
        }
      ]
    },
    {
      "cell_type": "code",
      "source": [
        "df.dtypes"
      ],
      "metadata": {
        "id": "CLWc045ygiSX",
        "outputId": "7c7d2528-8e67-4c0f-bbab-e74ba16a9d51",
        "colab": {
          "base_uri": "https://localhost:8080/"
        }
      },
      "execution_count": 8,
      "outputs": [
        {
          "output_type": "execute_result",
          "data": {
            "text/plain": [
              "id                object\n",
              "user_id           object\n",
              "retweet_count     object\n",
              "reply_count       object\n",
              "favorite_count    object\n",
              "num_hashtags      object\n",
              "num_urls          object\n",
              "num_mentions      object\n",
              "created_at        object\n",
              "text              object\n",
              "dtype: object"
            ]
          },
          "metadata": {},
          "execution_count": 8
        }
      ]
    },
    {
      "cell_type": "markdown",
      "source": [
        "##Types of attributes and basic checks"
      ],
      "metadata": {
        "id": "fyplmDLrh-Eg"
      }
    },
    {
      "cell_type": "code",
      "source": [
        "df.info()"
      ],
      "metadata": {
        "id": "tTSa2PLPiLh5",
        "outputId": "9931106f-893a-4768-c7c2-29cc674ade22",
        "colab": {
          "base_uri": "https://localhost:8080/"
        }
      },
      "execution_count": 9,
      "outputs": [
        {
          "output_type": "stream",
          "name": "stdout",
          "text": [
            "<class 'pandas.core.frame.DataFrame'>\n",
            "RangeIndex: 13664696 entries, 0 to 13664695\n",
            "Data columns (total 10 columns):\n",
            " #   Column          Dtype \n",
            "---  ------          ----- \n",
            " 0   id              object\n",
            " 1   user_id         object\n",
            " 2   retweet_count   object\n",
            " 3   reply_count     object\n",
            " 4   favorite_count  object\n",
            " 5   num_hashtags    object\n",
            " 6   num_urls        object\n",
            " 7   num_mentions    object\n",
            " 8   created_at      object\n",
            " 9   text            object\n",
            "dtypes: object(10)\n",
            "memory usage: 1.0+ GB\n"
          ]
        }
      ]
    },
    {
      "cell_type": "markdown",
      "source": [
        "##Data Integration"
      ],
      "metadata": {
        "id": "6D-0xLGIj6ys"
      }
    },
    {
      "cell_type": "code",
      "source": [
        "df_user = pd.read_csv('/content/drive/MyDrive/dataset/users.csv')\n",
        "df_user.head()"
      ],
      "metadata": {
        "id": "t-MLYCOYkAij",
        "outputId": "9e430911-3495-4946-f1ac-ef5146bec81c",
        "colab": {
          "base_uri": "https://localhost:8080/",
          "height": 206
        }
      },
      "execution_count": 10,
      "outputs": [
        {
          "output_type": "execute_result",
          "data": {
            "text/plain": [
              "           id              name lang  bot           created_at  statuses_count\n",
              "0  2353593986   Lamonica Raborn   en    1  2019-02-22 18:00:42            76.0\n",
              "1  2358850842     Lourie Botton   en    0  2019-02-26 03:02:32            54.0\n",
              "2   137959629  Dadan Syarifudin   en    1  2015-04-30 07:09:56             3.0\n",
              "3   466124818    Carletto Focia   it    1  2017-01-18 02:49:18            50.0\n",
              "4  2571493866         MBK Ebook   en    0  2019-06-18 19:30:21          7085.0"
            ],
            "text/html": [
              "\n",
              "  <div id=\"df-225679fb-4f1f-44de-a55a-570f71fcad65\">\n",
              "    <div class=\"colab-df-container\">\n",
              "      <div>\n",
              "<style scoped>\n",
              "    .dataframe tbody tr th:only-of-type {\n",
              "        vertical-align: middle;\n",
              "    }\n",
              "\n",
              "    .dataframe tbody tr th {\n",
              "        vertical-align: top;\n",
              "    }\n",
              "\n",
              "    .dataframe thead th {\n",
              "        text-align: right;\n",
              "    }\n",
              "</style>\n",
              "<table border=\"1\" class=\"dataframe\">\n",
              "  <thead>\n",
              "    <tr style=\"text-align: right;\">\n",
              "      <th></th>\n",
              "      <th>id</th>\n",
              "      <th>name</th>\n",
              "      <th>lang</th>\n",
              "      <th>bot</th>\n",
              "      <th>created_at</th>\n",
              "      <th>statuses_count</th>\n",
              "    </tr>\n",
              "  </thead>\n",
              "  <tbody>\n",
              "    <tr>\n",
              "      <th>0</th>\n",
              "      <td>2353593986</td>\n",
              "      <td>Lamonica Raborn</td>\n",
              "      <td>en</td>\n",
              "      <td>1</td>\n",
              "      <td>2019-02-22 18:00:42</td>\n",
              "      <td>76.0</td>\n",
              "    </tr>\n",
              "    <tr>\n",
              "      <th>1</th>\n",
              "      <td>2358850842</td>\n",
              "      <td>Lourie Botton</td>\n",
              "      <td>en</td>\n",
              "      <td>0</td>\n",
              "      <td>2019-02-26 03:02:32</td>\n",
              "      <td>54.0</td>\n",
              "    </tr>\n",
              "    <tr>\n",
              "      <th>2</th>\n",
              "      <td>137959629</td>\n",
              "      <td>Dadan Syarifudin</td>\n",
              "      <td>en</td>\n",
              "      <td>1</td>\n",
              "      <td>2015-04-30 07:09:56</td>\n",
              "      <td>3.0</td>\n",
              "    </tr>\n",
              "    <tr>\n",
              "      <th>3</th>\n",
              "      <td>466124818</td>\n",
              "      <td>Carletto Focia</td>\n",
              "      <td>it</td>\n",
              "      <td>1</td>\n",
              "      <td>2017-01-18 02:49:18</td>\n",
              "      <td>50.0</td>\n",
              "    </tr>\n",
              "    <tr>\n",
              "      <th>4</th>\n",
              "      <td>2571493866</td>\n",
              "      <td>MBK Ebook</td>\n",
              "      <td>en</td>\n",
              "      <td>0</td>\n",
              "      <td>2019-06-18 19:30:21</td>\n",
              "      <td>7085.0</td>\n",
              "    </tr>\n",
              "  </tbody>\n",
              "</table>\n",
              "</div>\n",
              "      <button class=\"colab-df-convert\" onclick=\"convertToInteractive('df-225679fb-4f1f-44de-a55a-570f71fcad65')\"\n",
              "              title=\"Convert this dataframe to an interactive table.\"\n",
              "              style=\"display:none;\">\n",
              "        \n",
              "  <svg xmlns=\"http://www.w3.org/2000/svg\" height=\"24px\"viewBox=\"0 0 24 24\"\n",
              "       width=\"24px\">\n",
              "    <path d=\"M0 0h24v24H0V0z\" fill=\"none\"/>\n",
              "    <path d=\"M18.56 5.44l.94 2.06.94-2.06 2.06-.94-2.06-.94-.94-2.06-.94 2.06-2.06.94zm-11 1L8.5 8.5l.94-2.06 2.06-.94-2.06-.94L8.5 2.5l-.94 2.06-2.06.94zm10 10l.94 2.06.94-2.06 2.06-.94-2.06-.94-.94-2.06-.94 2.06-2.06.94z\"/><path d=\"M17.41 7.96l-1.37-1.37c-.4-.4-.92-.59-1.43-.59-.52 0-1.04.2-1.43.59L10.3 9.45l-7.72 7.72c-.78.78-.78 2.05 0 2.83L4 21.41c.39.39.9.59 1.41.59.51 0 1.02-.2 1.41-.59l7.78-7.78 2.81-2.81c.8-.78.8-2.07 0-2.86zM5.41 20L4 18.59l7.72-7.72 1.47 1.35L5.41 20z\"/>\n",
              "  </svg>\n",
              "      </button>\n",
              "      \n",
              "  <style>\n",
              "    .colab-df-container {\n",
              "      display:flex;\n",
              "      flex-wrap:wrap;\n",
              "      gap: 12px;\n",
              "    }\n",
              "\n",
              "    .colab-df-convert {\n",
              "      background-color: #E8F0FE;\n",
              "      border: none;\n",
              "      border-radius: 50%;\n",
              "      cursor: pointer;\n",
              "      display: none;\n",
              "      fill: #1967D2;\n",
              "      height: 32px;\n",
              "      padding: 0 0 0 0;\n",
              "      width: 32px;\n",
              "    }\n",
              "\n",
              "    .colab-df-convert:hover {\n",
              "      background-color: #E2EBFA;\n",
              "      box-shadow: 0px 1px 2px rgba(60, 64, 67, 0.3), 0px 1px 3px 1px rgba(60, 64, 67, 0.15);\n",
              "      fill: #174EA6;\n",
              "    }\n",
              "\n",
              "    [theme=dark] .colab-df-convert {\n",
              "      background-color: #3B4455;\n",
              "      fill: #D2E3FC;\n",
              "    }\n",
              "\n",
              "    [theme=dark] .colab-df-convert:hover {\n",
              "      background-color: #434B5C;\n",
              "      box-shadow: 0px 1px 3px 1px rgba(0, 0, 0, 0.15);\n",
              "      filter: drop-shadow(0px 1px 2px rgba(0, 0, 0, 0.3));\n",
              "      fill: #FFFFFF;\n",
              "    }\n",
              "  </style>\n",
              "\n",
              "      <script>\n",
              "        const buttonEl =\n",
              "          document.querySelector('#df-225679fb-4f1f-44de-a55a-570f71fcad65 button.colab-df-convert');\n",
              "        buttonEl.style.display =\n",
              "          google.colab.kernel.accessAllowed ? 'block' : 'none';\n",
              "\n",
              "        async function convertToInteractive(key) {\n",
              "          const element = document.querySelector('#df-225679fb-4f1f-44de-a55a-570f71fcad65');\n",
              "          const dataTable =\n",
              "            await google.colab.kernel.invokeFunction('convertToInteractive',\n",
              "                                                     [key], {});\n",
              "          if (!dataTable) return;\n",
              "\n",
              "          const docLinkHtml = 'Like what you see? Visit the ' +\n",
              "            '<a target=\"_blank\" href=https://colab.research.google.com/notebooks/data_table.ipynb>data table notebook</a>'\n",
              "            + ' to learn more about interactive tables.';\n",
              "          element.innerHTML = '';\n",
              "          dataTable['output_type'] = 'display_data';\n",
              "          await google.colab.output.renderOutput(dataTable, element);\n",
              "          const docLink = document.createElement('div');\n",
              "          docLink.innerHTML = docLinkHtml;\n",
              "          element.appendChild(docLink);\n",
              "        }\n",
              "      </script>\n",
              "    </div>\n",
              "  </div>\n",
              "  "
            ]
          },
          "metadata": {},
          "execution_count": 10
        }
      ]
    },
    {
      "cell_type": "code",
      "source": [
        "j_df = df.join(df_user, on='id')\n",
        "i_df"
      ],
      "metadata": {
        "id": "jMXvUX1Ekx3o",
        "outputId": "4bad1d47-a1a0-4e90-f311-00b43f4be77c",
        "colab": {
          "base_uri": "https://localhost:8080/",
          "height": 340
        }
      },
      "execution_count": null,
      "outputs": [
        {
          "output_type": "error",
          "ename": "ValueError",
          "evalue": "ignored",
          "traceback": [
            "\u001b[0;31m---------------------------------------------------------------------------\u001b[0m",
            "\u001b[0;31mValueError\u001b[0m                                Traceback (most recent call last)",
            "\u001b[0;32m<ipython-input-9-1b01311b4512>\u001b[0m in \u001b[0;36m<module>\u001b[0;34m\u001b[0m\n\u001b[0;32m----> 1\u001b[0;31m \u001b[0mj_df\u001b[0m \u001b[0;34m=\u001b[0m \u001b[0mdf\u001b[0m\u001b[0;34m.\u001b[0m\u001b[0mjoin\u001b[0m\u001b[0;34m(\u001b[0m\u001b[0mdf_user\u001b[0m\u001b[0;34m,\u001b[0m \u001b[0mon\u001b[0m\u001b[0;34m=\u001b[0m\u001b[0;34m'id'\u001b[0m\u001b[0;34m)\u001b[0m\u001b[0;34m\u001b[0m\u001b[0;34m\u001b[0m\u001b[0m\n\u001b[0m\u001b[1;32m      2\u001b[0m \u001b[0mi_df\u001b[0m\u001b[0;34m\u001b[0m\u001b[0;34m\u001b[0m\u001b[0m\n",
            "\u001b[0;32m/usr/local/lib/python3.7/dist-packages/pandas/core/frame.py\u001b[0m in \u001b[0;36mjoin\u001b[0;34m(self, other, on, how, lsuffix, rsuffix, sort)\u001b[0m\n\u001b[1;32m   9098\u001b[0m         \"\"\"\n\u001b[1;32m   9099\u001b[0m         return self._join_compat(\n\u001b[0;32m-> 9100\u001b[0;31m             \u001b[0mother\u001b[0m\u001b[0;34m,\u001b[0m \u001b[0mon\u001b[0m\u001b[0;34m=\u001b[0m\u001b[0mon\u001b[0m\u001b[0;34m,\u001b[0m \u001b[0mhow\u001b[0m\u001b[0;34m=\u001b[0m\u001b[0mhow\u001b[0m\u001b[0;34m,\u001b[0m \u001b[0mlsuffix\u001b[0m\u001b[0;34m=\u001b[0m\u001b[0mlsuffix\u001b[0m\u001b[0;34m,\u001b[0m \u001b[0mrsuffix\u001b[0m\u001b[0;34m=\u001b[0m\u001b[0mrsuffix\u001b[0m\u001b[0;34m,\u001b[0m \u001b[0msort\u001b[0m\u001b[0;34m=\u001b[0m\u001b[0msort\u001b[0m\u001b[0;34m\u001b[0m\u001b[0;34m\u001b[0m\u001b[0m\n\u001b[0m\u001b[1;32m   9101\u001b[0m         )\n\u001b[1;32m   9102\u001b[0m \u001b[0;34m\u001b[0m\u001b[0m\n",
            "\u001b[0;32m/usr/local/lib/python3.7/dist-packages/pandas/core/frame.py\u001b[0m in \u001b[0;36m_join_compat\u001b[0;34m(self, other, on, how, lsuffix, rsuffix, sort)\u001b[0m\n\u001b[1;32m   9141\u001b[0m             \u001b[0;32mif\u001b[0m \u001b[0mon\u001b[0m \u001b[0;32mis\u001b[0m \u001b[0;32mnot\u001b[0m \u001b[0;32mNone\u001b[0m\u001b[0;34m:\u001b[0m\u001b[0;34m\u001b[0m\u001b[0;34m\u001b[0m\u001b[0m\n\u001b[1;32m   9142\u001b[0m                 raise ValueError(\n\u001b[0;32m-> 9143\u001b[0;31m                     \u001b[0;34m\"Joining multiple DataFrames only supported for joining on index\"\u001b[0m\u001b[0;34m\u001b[0m\u001b[0;34m\u001b[0m\u001b[0m\n\u001b[0m\u001b[1;32m   9144\u001b[0m                 )\n\u001b[1;32m   9145\u001b[0m \u001b[0;34m\u001b[0m\u001b[0m\n",
            "\u001b[0;31mValueError\u001b[0m: Joining multiple DataFrames only supported for joining on index"
          ]
        }
      ]
    }
  ],
  "metadata": {
    "kernelspec": {
      "display_name": "Python 3.9.12 ('base')",
      "language": "python",
      "name": "python3"
    },
    "language_info": {
      "codemirror_mode": {
        "name": "ipython",
        "version": 3
      },
      "file_extension": ".py",
      "mimetype": "text/x-python",
      "name": "python",
      "nbconvert_exporter": "python",
      "pygments_lexer": "ipython3",
      "version": "3.9.12"
    },
    "orig_nbformat": 4,
    "vscode": {
      "interpreter": {
        "hash": "56655f70ed23692c94eb55f802592407263d2cc2949551ec43caf2870996997e"
      }
    },
    "colab": {
      "provenance": [],
      "include_colab_link": true
    }
  },
  "nbformat": 4,
  "nbformat_minor": 0
}